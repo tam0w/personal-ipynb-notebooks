{
 "cells": [
  {
   "cell_type": "code",
   "execution_count": 1,
   "id": "initial_id",
   "metadata": {
    "collapsed": true,
    "ExecuteTime": {
     "end_time": "2023-10-18T15:27:26.958994582Z",
     "start_time": "2023-10-18T15:27:26.911901495Z"
    }
   },
   "outputs": [],
   "source": [
    "## INTERVIEW PREP QUESTIONS"
   ]
  },
  {
   "cell_type": "code",
   "execution_count": null,
   "outputs": [],
   "source": [
    "## check if any arrangement of number is prie or not, return 1 if it is"
   ],
   "metadata": {
    "collapsed": false
   },
   "id": "efd22060401beaa0"
  },
  {
   "cell_type": "code",
   "execution_count": 6,
   "outputs": [],
   "source": [
    "import math"
   ],
   "metadata": {
    "collapsed": false,
    "ExecuteTime": {
     "end_time": "2023-10-18T17:12:35.517899326Z",
     "start_time": "2023-10-18T17:12:35.482212167Z"
    }
   },
   "id": "3ce51d62fad9b9b5"
  },
  {
   "cell_type": "code",
   "execution_count": 1,
   "outputs": [],
   "source": [
    "permutations = []\n",
    "\n",
    "def isPrime(number):\n",
    "    \n",
    "    number = str(number)\n",
    "    \n",
    "    n = len(number)\n",
    "\n",
    "    getPermutations(number, 0)\n",
    "    \n",
    "    # print(permutations)\n",
    "    \n",
    "\n",
    "def getPermutations(number, i):\n",
    "    \n",
    "    print('number', number)\n",
    "    n = len(number)\n",
    "    print(n)\n",
    "    number = list(str(number))\n",
    " \n",
    "    # n_permutations = math.factorial(n)\n",
    "    if n > 10:\n",
    "        quit()\n",
    "    \n",
    "    \n",
    "    if i == n:\n",
    "        print('did it work?')\n",
    "        permutations.append(number)\n",
    "    \n",
    "    else:\n",
    "        for j in range(i, n):\n",
    "            print(i)\n",
    "            number[i], number[j] = number[j], number[i]\n",
    "            getPermutations(number, i+1)\n",
    "            print('ab')\n",
    "            number[i], number[j] = number[j], number[i]\n",
    "    \n",
    "        "
   ],
   "metadata": {
    "collapsed": false,
    "ExecuteTime": {
     "end_time": "2023-10-18T17:22:45.402998753Z",
     "start_time": "2023-10-18T17:22:45.340728326Z"
    }
   },
   "id": "e2e21fdd33142a5d"
  },
  {
   "cell_type": "code",
   "execution_count": 2,
   "outputs": [
    {
     "name": "stderr",
     "output_type": "stream",
     "text": [
      "IOPub data rate exceeded.\n",
      "The Jupyter server will temporarily stop sending output\n",
      "to the client in order to avoid crashing it.\n",
      "To change this limit, set the config variable\n",
      "`--ServerApp.iopub_data_rate_limit`.\n",
      "\n",
      "Current values:\n",
      "ServerApp.iopub_data_rate_limit=1000000.0 (bytes/sec)\n",
      "ServerApp.rate_limit_window=3.0 (secs)\n",
      "\n"
     ]
    }
   ],
   "source": [],
   "metadata": {
    "collapsed": false,
    "ExecuteTime": {
     "end_time": "2023-10-18T17:23:08.016336670Z",
     "start_time": "2023-10-18T17:22:47.280962317Z"
    }
   },
   "id": "d3bdbc2c9b8a0457"
  },
  {
   "cell_type": "code",
   "execution_count": null,
   "outputs": [],
   "source": [
    "isPrime(12)\n"
   ],
   "metadata": {
    "collapsed": false,
    "is_executing": true
   },
   "id": "5f43b46f74a6b8a3"
  },
  {
   "cell_type": "code",
   "execution_count": null,
   "outputs": [],
   "source": [],
   "metadata": {
    "collapsed": false
   },
   "id": "68aa622263b6755a"
  }
 ],
 "metadata": {
  "kernelspec": {
   "display_name": "Python 3",
   "language": "python",
   "name": "python3"
  },
  "language_info": {
   "codemirror_mode": {
    "name": "ipython",
    "version": 2
   },
   "file_extension": ".py",
   "mimetype": "text/x-python",
   "name": "python",
   "nbconvert_exporter": "python",
   "pygments_lexer": "ipython2",
   "version": "2.7.6"
  }
 },
 "nbformat": 4,
 "nbformat_minor": 5
}
