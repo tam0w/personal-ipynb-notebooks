{
 "cells": [
  {
   "cell_type": "code",
   "execution_count": 1,
   "id": "initial_id",
   "metadata": {
    "collapsed": true,
    "ExecuteTime": {
     "end_time": "2023-10-18T15:27:26.958994582Z",
     "start_time": "2023-10-18T15:27:26.911901495Z"
    }
   },
   "outputs": [],
   "source": [
    "## INTERVIEW PREP QUESTIONS"
   ]
  },
  {
   "cell_type": "code",
   "execution_count": null,
   "outputs": [],
   "source": [
    "## check if any arrangement of number is prie or not, return 1 if it is"
   ],
   "metadata": {
    "collapsed": false
   },
   "id": "efd22060401beaa0"
  },
  {
   "cell_type": "code",
   "execution_count": 6,
   "outputs": [],
   "source": [
    "import math"
   ],
   "metadata": {
    "collapsed": false,
    "ExecuteTime": {
     "end_time": "2023-10-18T17:12:35.517899326Z",
     "start_time": "2023-10-18T17:12:35.482212167Z"
    }
   },
   "id": "3ce51d62fad9b9b5"
  },
  {
   "cell_type": "code",
   "execution_count": 22,
   "outputs": [],
   "source": [
    "permutations = []\n",
    "\n",
    "def isPrime(number):\n",
    "    \n",
    "    number = list(str(number))\n",
    "    \n",
    "    n = len(number)\n",
    "\n",
    "    getPermutations(number, 0, len(number))\n",
    "    \n",
    "    for val in permutations:\n",
    "        \n",
    "        val = int(val)\n",
    "        \n",
    "        for v in range(2,val):\n",
    "            \n",
    "            if val % v == 0:\n",
    "                print(val,v)\n",
    "                return 1\n",
    "            \n",
    "        return 0\n",
    "\n",
    "    \n",
    "\n",
    "def getPermutations(number, i, n):\n",
    "\n",
    "    \n",
    "    if i == n:\n",
    "        permutations.append(''.join(number))\n",
    "    \n",
    "    else:\n",
    "        for j in range(i, n):\n",
    "            number[i], number[j] = number[j], number[i]\n",
    "            getPermutations(number, i+1, n)\n",
    "            number[i], number[j] = number[j], number[i]\n",
    "    \n",
    "        "
   ],
   "metadata": {
    "collapsed": false,
    "ExecuteTime": {
     "end_time": "2023-10-18T18:05:26.731977359Z",
     "start_time": "2023-10-18T18:05:26.615141256Z"
    }
   },
   "id": "e2e21fdd33142a5d"
  },
  {
   "cell_type": "code",
   "execution_count": 34,
   "outputs": [
    {
     "name": "stdout",
     "output_type": "stream",
     "text": [
      "4 2\n",
      "['4'] \n",
      " 1\n"
     ]
    }
   ],
   "source": [
    "permutations = []\n",
    "prime = isPrime('4')\n",
    "\n",
    "print(permutations,\"\\n\",prime)"
   ],
   "metadata": {
    "collapsed": false,
    "ExecuteTime": {
     "end_time": "2023-10-18T18:07:26.051916211Z",
     "start_time": "2023-10-18T18:07:26.027642212Z"
    }
   },
   "id": "d9553faaeb03de61"
  },
  {
   "cell_type": "code",
   "execution_count": null,
   "outputs": [],
   "source": [],
   "metadata": {
    "collapsed": false
   },
   "id": "eaeb35407e5e31e0"
  }
 ],
 "metadata": {
  "kernelspec": {
   "display_name": "Python 3",
   "language": "python",
   "name": "python3"
  },
  "language_info": {
   "codemirror_mode": {
    "name": "ipython",
    "version": 2
   },
   "file_extension": ".py",
   "mimetype": "text/x-python",
   "name": "python",
   "nbconvert_exporter": "python",
   "pygments_lexer": "ipython2",
   "version": "2.7.6"
  }
 },
 "nbformat": 4,
 "nbformat_minor": 5
}
