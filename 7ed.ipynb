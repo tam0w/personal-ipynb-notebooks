{
 "cells": [
  {
   "cell_type": "code",
   "execution_count": 67,
   "id": "initial_id",
   "metadata": {
    "collapsed": true,
    "ExecuteTime": {
     "end_time": "2023-10-19T16:22:22.465253235Z",
     "start_time": "2023-10-19T16:22:20.339781849Z"
    }
   },
   "outputs": [
    {
     "name": "stdout",
     "output_type": "stream",
     "text": [
      "Requirement already satisfied: matplotlib in ./venv/lib/python3.10/site-packages (3.8.0)\r\n",
      "Requirement already satisfied: seaborn in ./venv/lib/python3.10/site-packages (0.13.0)\r\n",
      "Requirement already satisfied: pandas in ./venv/lib/python3.10/site-packages (2.1.1)\r\n",
      "Requirement already satisfied: numpy in ./venv/lib/python3.10/site-packages (1.26.1)\r\n",
      "Requirement already satisfied: contourpy>=1.0.1 in ./venv/lib/python3.10/site-packages (from matplotlib) (1.1.1)\r\n",
      "Requirement already satisfied: cycler>=0.10 in ./venv/lib/python3.10/site-packages (from matplotlib) (0.12.1)\r\n",
      "Requirement already satisfied: fonttools>=4.22.0 in ./venv/lib/python3.10/site-packages (from matplotlib) (4.43.1)\r\n",
      "Requirement already satisfied: kiwisolver>=1.0.1 in ./venv/lib/python3.10/site-packages (from matplotlib) (1.4.5)\r\n",
      "Requirement already satisfied: packaging>=20.0 in ./venv/lib/python3.10/site-packages (from matplotlib) (23.2)\r\n",
      "Requirement already satisfied: pillow>=6.2.0 in ./venv/lib/python3.10/site-packages (from matplotlib) (10.1.0)\r\n",
      "Requirement already satisfied: pyparsing>=2.3.1 in ./venv/lib/python3.10/site-packages (from matplotlib) (3.1.1)\r\n",
      "Requirement already satisfied: python-dateutil>=2.7 in ./venv/lib/python3.10/site-packages (from matplotlib) (2.8.2)\r\n",
      "Requirement already satisfied: pytz>=2020.1 in ./venv/lib/python3.10/site-packages (from pandas) (2023.3.post1)\r\n",
      "Requirement already satisfied: tzdata>=2022.1 in ./venv/lib/python3.10/site-packages (from pandas) (2023.3)\r\n",
      "Requirement already satisfied: six>=1.5 in ./venv/lib/python3.10/site-packages (from python-dateutil>=2.7->matplotlib) (1.16.0)\r\n",
      "\r\n",
      "\u001B[1m[\u001B[0m\u001B[34;49mnotice\u001B[0m\u001B[1;39;49m]\u001B[0m\u001B[39;49m A new release of pip is available: \u001B[0m\u001B[31;49m23.2.1\u001B[0m\u001B[39;49m -> \u001B[0m\u001B[32;49m23.3\u001B[0m\r\n",
      "\u001B[1m[\u001B[0m\u001B[34;49mnotice\u001B[0m\u001B[1;39;49m]\u001B[0m\u001B[39;49m To update, run: \u001B[0m\u001B[32;49mpip install --upgrade pip\u001B[0m\r\n"
     ]
    }
   ],
   "source": [
    "!pip install matplotlib seaborn pandas numpy "
   ]
  },
  {
   "cell_type": "code",
   "execution_count": 68,
   "outputs": [],
   "source": [
    "import matplotlib.pyplot as plt\n",
    "import seaborn as sns\n",
    "import pandas as pd\n",
    "import numpy as np"
   ],
   "metadata": {
    "collapsed": false,
    "ExecuteTime": {
     "end_time": "2023-10-19T16:22:22.583898297Z",
     "start_time": "2023-10-19T16:22:22.482741300Z"
    }
   },
   "id": "837fe031f1a05f1c"
  },
  {
   "cell_type": "code",
   "execution_count": 69,
   "outputs": [],
   "source": [
    "df = pd.read_csv('7edge.csv')"
   ],
   "metadata": {
    "collapsed": false,
    "ExecuteTime": {
     "end_time": "2023-10-19T16:22:22.585787920Z",
     "start_time": "2023-10-19T16:22:22.504359077Z"
    }
   },
   "id": "28a7f2f49f666e4a"
  },
  {
   "cell_type": "code",
   "execution_count": 70,
   "outputs": [
    {
     "name": "stdout",
     "output_type": "stream",
     "text": [
      "<class 'pandas.core.frame.DataFrame'>\n",
      "RangeIndex: 179 entries, 0 to 178\n",
      "Data columns (total 12 columns):\n",
      " #   Column               Non-Null Count  Dtype  \n",
      "---  ------               --------------  -----  \n",
      " 0   Sr.No.               179 non-null    int64  \n",
      " 1   Full Name            179 non-null    object \n",
      " 2   Email id             179 non-null    object \n",
      " 3   Contact Number       179 non-null    int64  \n",
      " 4   USN                  179 non-null    object \n",
      " 5   Branch               179 non-null    object \n",
      " 6   10th%                179 non-null    object \n",
      " 7   12th%                177 non-null    object \n",
      " 8   Diploma%             121 non-null    object \n",
      " 9   BE%                  179 non-null    object \n",
      " 10  B.E CGPA             179 non-null    float64\n",
      " 11  Roles applying for?  179 non-null    object \n",
      "dtypes: float64(1), int64(2), object(9)\n",
      "memory usage: 16.9+ KB\n"
     ]
    },
    {
     "data": {
      "text/plain": "61"
     },
     "execution_count": 70,
     "metadata": {},
     "output_type": "execute_result"
    }
   ],
   "source": [
    "df.info()\n",
    "df['Branch'].nunique()"
   ],
   "metadata": {
    "collapsed": false,
    "ExecuteTime": {
     "end_time": "2023-10-19T16:22:22.586678375Z",
     "start_time": "2023-10-19T16:22:22.555972943Z"
    }
   },
   "id": "31212614ff335db7"
  },
  {
   "cell_type": "code",
   "execution_count": 71,
   "outputs": [],
   "source": [
    "df = df.dropna(subset='12th%')"
   ],
   "metadata": {
    "collapsed": false,
    "ExecuteTime": {
     "end_time": "2023-10-19T16:22:22.700418362Z",
     "start_time": "2023-10-19T16:22:22.565436670Z"
    }
   },
   "id": "b31281c9a42b9de5"
  },
  {
   "cell_type": "code",
   "execution_count": 72,
   "outputs": [
    {
     "name": "stderr",
     "output_type": "stream",
     "text": [
      "/tmp/ipykernel_10174/717508953.py:3: FutureWarning: Setting an item of incompatible dtype is deprecated and will raise in a future error of pandas. Value 'True' has dtype incompatible with float64, please explicitly cast to a compatible dtype first.\n",
      "  df.loc[i, 'Analyst'] = True\n"
     ]
    }
   ],
   "source": [
    "for i, row in df.iterrows():\n",
    "    if row['Roles applying for?'].__contains__('Analyst'):\n",
    "        df.loc[i, 'Analyst'] = True"
   ],
   "metadata": {
    "collapsed": false,
    "ExecuteTime": {
     "end_time": "2023-10-19T16:22:22.700932616Z",
     "start_time": "2023-10-19T16:22:22.613637934Z"
    }
   },
   "id": "69648e41362ac06d"
  },
  {
   "cell_type": "code",
   "execution_count": 73,
   "outputs": [
    {
     "data": {
      "text/plain": "Analyst\nFalse    160\nTrue      17\nName: count, dtype: int64"
     },
     "execution_count": 73,
     "metadata": {},
     "output_type": "execute_result"
    }
   ],
   "source": [
    "df['Analyst'] = df.Analyst.fillna(False)\n",
    "df['Analyst'].value_counts()"
   ],
   "metadata": {
    "collapsed": false,
    "ExecuteTime": {
     "end_time": "2023-10-19T16:22:22.749786578Z",
     "start_time": "2023-10-19T16:22:22.657427573Z"
    }
   },
   "id": "ed47ad50f024ade"
  },
  {
   "cell_type": "code",
   "execution_count": 74,
   "outputs": [],
   "source": [
    "sns.set_style('dark')\n",
    "sns.set_palette('husl')"
   ],
   "metadata": {
    "collapsed": false,
    "ExecuteTime": {
     "end_time": "2023-10-19T16:22:22.750171114Z",
     "start_time": "2023-10-19T16:22:22.657754930Z"
    }
   },
   "id": "5150ab1fdb2d060a"
  },
  {
   "cell_type": "code",
   "execution_count": 79,
   "outputs": [
    {
     "data": {
      "text/plain": "array(['aiml', 'cs', 'ds', 'ec', 'ise', 'mechanical'], dtype=object)"
     },
     "execution_count": 79,
     "metadata": {},
     "output_type": "execute_result"
    }
   ],
   "source": [
    "df['Branch'] = df['Branch'].str.lower().str.strip().str.replace('&','and').str.replace('computer science','cse').str.replace('data science','ds').str.replace('( ',' (').str.replace('ai&ml','aiml').str.replace('-',' ').str.replace('electronicse','electronics').str.replace('enginnering','engineering').str.replace('and','').str.replace('engineering','').str.replace('csee','cse').str.replace('communications','communication').str.replace('information science','ise').str.replace('electronics communication','ec').str.replace('ece','ec').str.replace('electronics  communication','ec').str.replace('cse ds','cse (ds)').str.replace('cse(aiml)','aiml').str.replace('cse aiml','aiml').str.replace('cse(ds)','cse (ds)').str.replace('cse (ds)','ds').str.replace('cse  aiml','aiml').str.replace('cse','cs').str.strip()\n",
    "df['Branch'].unique()"
   ],
   "metadata": {
    "collapsed": false,
    "ExecuteTime": {
     "end_time": "2023-10-19T16:23:16.811635556Z",
     "start_time": "2023-10-19T16:23:16.761409073Z"
    }
   },
   "id": "f473cafaf77f775c"
  },
  {
   "cell_type": "code",
   "execution_count": 80,
   "outputs": [
    {
     "data": {
      "text/plain": "Text(0.5, 1.0, 'Candidates applying for Data Analyst Role v/s Students in various Departments')"
     },
     "execution_count": 80,
     "metadata": {},
     "output_type": "execute_result"
    },
    {
     "data": {
      "text/plain": "<Figure size 640x480 with 2 Axes>",
      "image/png": "[encoded data removed]"
     },
     "metadata": {},
     "output_type": "display_data"
    }
   ],
   "source": [
    "fig, ax = plt.subplots(1,2)\n",
    "ax[0].pie(df['Analyst'].value_counts().values, labels=df['Analyst'].value_counts().index, autopct=\"%.f%%\")\n",
    "ax[1].pie(df['Branch'].value_counts().head(6).values, labels=df['Branch'].value_counts().head(6).index, autopct=\"%.f%%\")\n",
    "plt.title('Candidates applying for Data Analyst Role v/s Students in various Departments')"
   ],
   "metadata": {
    "collapsed": false,
    "ExecuteTime": {
     "end_time": "2023-10-19T16:23:24.416010559Z",
     "start_time": "2023-10-19T16:23:24.121852328Z"
    }
   },
   "id": "b22aa23c2ff8badc"
  },
  {
   "cell_type": "code",
   "execution_count": 76,
   "outputs": [],
   "source": [],
   "metadata": {
    "collapsed": false,
    "ExecuteTime": {
     "end_time": "2023-10-19T16:22:23.097320101Z",
     "start_time": "2023-10-19T16:22:23.033527515Z"
    }
   },
   "id": "898e96347c35eb04"
  },
  {
   "cell_type": "code",
   "execution_count": 76,
   "outputs": [],
   "source": [],
   "metadata": {
    "collapsed": false,
    "ExecuteTime": {
     "end_time": "2023-10-19T16:22:23.097603681Z",
     "start_time": "2023-10-19T16:22:23.036482821Z"
    }
   },
   "id": "b7fcfb22a2acc8b"
  }
 ],
 "metadata": {
  "kernelspec": {
   "display_name": "Python 3",
   "language": "python",
   "name": "python3"
  },
  "language_info": {
   "codemirror_mode": {
    "name": "ipython",
    "version": 2
   },
   "file_extension": ".py",
   "mimetype": "text/x-python",
   "name": "python",
   "nbconvert_exporter": "python",
   "pygments_lexer": "ipython2",
   "version": "2.7.6"
  }
 },
 "nbformat": 4,
 "nbformat_minor": 5
}
