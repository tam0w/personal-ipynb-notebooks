{
 "cells": [
  {
   "cell_type": "code",
   "execution_count": 67,
   "id": "initial_id",
   "metadata": {
    "collapsed": true,
    "ExecuteTime": {
     "end_time": "2023-10-19T16:22:22.465253235Z",
     "start_time": "2023-10-19T16:22:20.339781849Z"
    }
   },
   "outputs": [
    {
     "name": "stdout",
     "output_type": "stream",
     "text": [
      "Requirement already satisfied: matplotlib in ./venv/lib/python3.10/site-packages (3.8.0)\r\n",
      "Requirement already satisfied: seaborn in ./venv/lib/python3.10/site-packages (0.13.0)\r\n",
      "Requirement already satisfied: pandas in ./venv/lib/python3.10/site-packages (2.1.1)\r\n",
      "Requirement already satisfied: numpy in ./venv/lib/python3.10/site-packages (1.26.1)\r\n",
      "Requirement already satisfied: contourpy>=1.0.1 in ./venv/lib/python3.10/site-packages (from matplotlib) (1.1.1)\r\n",
      "Requirement already satisfied: cycler>=0.10 in ./venv/lib/python3.10/site-packages (from matplotlib) (0.12.1)\r\n",
      "Requirement already satisfied: fonttools>=4.22.0 in ./venv/lib/python3.10/site-packages (from matplotlib) (4.43.1)\r\n",
      "Requirement already satisfied: kiwisolver>=1.0.1 in ./venv/lib/python3.10/site-packages (from matplotlib) (1.4.5)\r\n",
      "Requirement already satisfied: packaging>=20.0 in ./venv/lib/python3.10/site-packages (from matplotlib) (23.2)\r\n",
      "Requirement already satisfied: pillow>=6.2.0 in ./venv/lib/python3.10/site-packages (from matplotlib) (10.1.0)\r\n",
      "Requirement already satisfied: pyparsing>=2.3.1 in ./venv/lib/python3.10/site-packages (from matplotlib) (3.1.1)\r\n",
      "Requirement already satisfied: python-dateutil>=2.7 in ./venv/lib/python3.10/site-packages (from matplotlib) (2.8.2)\r\n",
      "Requirement already satisfied: pytz>=2020.1 in ./venv/lib/python3.10/site-packages (from pandas) (2023.3.post1)\r\n",
      "Requirement already satisfied: tzdata>=2022.1 in ./venv/lib/python3.10/site-packages (from pandas) (2023.3)\r\n",
      "Requirement already satisfied: six>=1.5 in ./venv/lib/python3.10/site-packages (from python-dateutil>=2.7->matplotlib) (1.16.0)\r\n",
      "\r\n",
      "\u001B[1m[\u001B[0m\u001B[34;49mnotice\u001B[0m\u001B[1;39;49m]\u001B[0m\u001B[39;49m A new release of pip is available: \u001B[0m\u001B[31;49m23.2.1\u001B[0m\u001B[39;49m -> \u001B[0m\u001B[32;49m23.3\u001B[0m\r\n",
      "\u001B[1m[\u001B[0m\u001B[34;49mnotice\u001B[0m\u001B[1;39;49m]\u001B[0m\u001B[39;49m To update, run: \u001B[0m\u001B[32;49mpip install --upgrade pip\u001B[0m\r\n"
     ]
    }
   ],
   "source": [
    "!pip install matplotlib seaborn pandas numpy "
   ]
  },
  {
   "cell_type": "code",
   "execution_count": 68,
   "outputs": [],
   "source": [
    "import matplotlib.pyplot as plt\n",
    "import seaborn as sns\n",
    "import pandas as pd\n",
    "import numpy as np"
   ],
   "metadata": {
    "collapsed": false,
    "ExecuteTime": {
     "end_time": "2023-10-19T16:22:22.583898297Z",
     "start_time": "2023-10-19T16:22:22.482741300Z"
    }
   },
   "id": "837fe031f1a05f1c"
  },
  {
   "cell_type": "code",
   "execution_count": 95,
   "outputs": [],
   "source": [
    "df = pd.read_csv('7edge.csv')"
   ],
   "metadata": {
    "collapsed": false,
    "ExecuteTime": {
     "end_time": "2023-10-19T16:35:00.246161420Z",
     "start_time": "2023-10-19T16:35:00.195918409Z"
    }
   },
   "id": "28a7f2f49f666e4a"
  },
  {
   "cell_type": "code",
   "execution_count": 96,
   "outputs": [
    {
     "name": "stdout",
     "output_type": "stream",
     "text": [
      "<class 'pandas.core.frame.DataFrame'>\n",
      "RangeIndex: 179 entries, 0 to 178\n",
      "Data columns (total 12 columns):\n",
      " #   Column               Non-Null Count  Dtype  \n",
      "---  ------               --------------  -----  \n",
      " 0   Sr.No.               179 non-null    int64  \n",
      " 1   Full Name            179 non-null    object \n",
      " 2   Email id             179 non-null    object \n",
      " 3   Contact Number       179 non-null    int64  \n",
      " 4   USN                  179 non-null    object \n",
      " 5   Branch               179 non-null    object \n",
      " 6   10th%                179 non-null    object \n",
      " 7   12th%                177 non-null    object \n",
      " 8   Diploma%             121 non-null    object \n",
      " 9   BE%                  179 non-null    object \n",
      " 10  B.E CGPA             179 non-null    float64\n",
      " 11  Roles applying for?  179 non-null    object \n",
      "dtypes: float64(1), int64(2), object(9)\n",
      "memory usage: 16.9+ KB\n"
     ]
    },
    {
     "data": {
      "text/plain": "61"
     },
     "execution_count": 96,
     "metadata": {},
     "output_type": "execute_result"
    }
   ],
   "source": [
    "df.info()\n",
    "df['Branch'].nunique()"
   ],
   "metadata": {
    "collapsed": false,
    "ExecuteTime": {
     "end_time": "2023-10-19T16:35:00.438564318Z",
     "start_time": "2023-10-19T16:35:00.419679685Z"
    }
   },
   "id": "31212614ff335db7"
  },
  {
   "cell_type": "code",
   "execution_count": 97,
   "outputs": [],
   "source": [
    "df = df.dropna(subset='12th%')"
   ],
   "metadata": {
    "collapsed": false,
    "ExecuteTime": {
     "end_time": "2023-10-19T16:35:00.766698706Z",
     "start_time": "2023-10-19T16:35:00.700693732Z"
    }
   },
   "id": "b31281c9a42b9de5"
  },
  {
   "cell_type": "code",
   "execution_count": 98,
   "outputs": [
    {
     "name": "stderr",
     "output_type": "stream",
     "text": [
      "/tmp/ipykernel_10174/2469173695.py:4: FutureWarning: Setting an item of incompatible dtype is deprecated and will raise in a future error of pandas. Value 'True' has dtype incompatible with float64, please explicitly cast to a compatible dtype first.\n",
      "  df.loc[i, 'Analyst'] = True\n"
     ]
    },
    {
     "data": {
      "text/plain": "array(['AIML', 'CSE', 'Data Science', 'EC', 'ISE'], dtype=object)"
     },
     "execution_count": 98,
     "metadata": {},
     "output_type": "execute_result"
    }
   ],
   "source": [
    "df['Branch'] = df.Branch.str.lower()\n",
    "for i, row in df.iterrows():\n",
    "    if row['Roles applying for?'].__contains__('Analyst'):\n",
    "        df.loc[i, 'Analyst'] = True\n",
    "    if row['Branch'].__contains__('data') or row['Branch'].__contains__('ds'):\n",
    "        df.loc[i, 'Branch'] = 'Data Science'\n",
    "    elif row['Branch'].__contains__('elec') or row['Branch'].__contains__('ec'):\n",
    "        df.loc[i, 'Branch'] = 'EC'\n",
    "    elif row['Branch'].__contains__('info') or row['Branch'].__contains__('ise'):\n",
    "        df.loc[i, 'Branch'] = 'ISE'\n",
    "    elif row['Branch'].__contains__('ai') or row['Branch'].__contains__('ml'):\n",
    "        df.loc[i, 'Branch'] = 'AIML'\n",
    "    elif row['Branch'].__contains__('cse') or row['Branch'].__contains__('comp') or row['Branch'].__contains__('cs'):\n",
    "        df.loc[i, 'Branch'] = 'CSE'\n",
    "\n",
    "df['Branch'].unique()"
   ],
   "metadata": {
    "collapsed": false,
    "ExecuteTime": {
     "end_time": "2023-10-19T16:35:01.295350447Z",
     "start_time": "2023-10-19T16:35:01.206245622Z"
    }
   },
   "id": "69648e41362ac06d"
  },
  {
   "cell_type": "code",
   "execution_count": 100,
   "outputs": [
    {
     "data": {
      "text/plain": "Analyst\nFalse    160\nTrue      17\nName: count, dtype: int64"
     },
     "execution_count": 100,
     "metadata": {},
     "output_type": "execute_result"
    }
   ],
   "source": [
    "df['Analyst'] = df.Analyst.fillna(False)\n",
    "df['Analyst'].value_counts()"
   ],
   "metadata": {
    "collapsed": false,
    "ExecuteTime": {
     "end_time": "2023-10-19T16:36:46.417960649Z",
     "start_time": "2023-10-19T16:36:46.375218280Z"
    }
   },
   "id": "ed47ad50f024ade"
  },
  {
   "cell_type": "code",
   "execution_count": 101,
   "outputs": [],
   "source": [
    "sns.set_style('dark')\n",
    "sns.set_palette('husl')"
   ],
   "metadata": {
    "collapsed": false,
    "ExecuteTime": {
     "end_time": "2023-10-19T16:36:47.060201919Z",
     "start_time": "2023-10-19T16:36:47.027165786Z"
    }
   },
   "id": "5150ab1fdb2d060a"
  },
  {
   "cell_type": "code",
   "execution_count": 102,
   "outputs": [],
   "source": [
    "# df['Branch'] = df['Branch'].str.lower().str.strip().str.replace('&','and').str.replace('computer science','cse').str.replace('data science','ds').str.replace('( ',' (').str.replace('ai&ml','aiml').str.replace('-',' ').str.replace('electronicse','electronics').str.replace('enginnering','engineering').str.replace('and','').str.replace('engineering','').str.replace('csee','cse').str.replace('communications','communication').str.replace('information science','ise').str.replace('electronics communication','ec').str.replace('ece','ec').str.replace('electronics  communication','ec').str.replace('cse ds','cse (ds)').str.replace('cse(aiml)','aiml').str.replace('cse aiml','aiml').str.replace('cse(ds)','cse (ds)').str.replace('cse (ds)','ds').str.replace('cse  aiml','aiml').str.replace('cse','cs').str.strip()\n",
    "# df['Branch'].unique()"
   ],
   "metadata": {
    "collapsed": false,
    "ExecuteTime": {
     "end_time": "2023-10-19T16:36:47.590328630Z",
     "start_time": "2023-10-19T16:36:47.555861868Z"
    }
   },
   "id": "f473cafaf77f775c"
  },
  {
   "cell_type": "code",
   "execution_count": 127,
   "outputs": [],
   "source": [
    "df['ML Branch'] = df['Branch'] == 'AIML'"
   ],
   "metadata": {
    "collapsed": false,
    "ExecuteTime": {
     "end_time": "2023-10-19T16:45:37.722582092Z",
     "start_time": "2023-10-19T16:45:37.708575644Z"
    }
   },
   "id": "ed7b6e461c3e5e71"
  },
  {
   "cell_type": "code",
   "execution_count": 143,
   "outputs": [
    {
     "data": {
      "text/plain": "Text(0.5, 1.0, 'Candidates applying for Data Analyst Role v/s Students in various Departments')"
     },
     "execution_count": 143,
     "metadata": {},
     "output_type": "execute_result"
    },
    {
     "data": {
      "text/plain": "<Figure size 640x480 with 3 Axes>",
      "image/png": "[encoded data removed]"
     },
     "metadata": {},
     "output_type": "display_data"
    }
   ],
   "source": [
    "fig, ax = plt.subplots(1,3)\n",
    "plt.tight_layout()\n",
    "ax[0].pie(df['Analyst'].value_counts().values, labels=df['Analyst'].value_counts().index, autopct=\"%.f%%\", colors=['red', 'lightblue'])\n",
    "ax[1].pie(df['Branch'].value_counts().values, labels=df['Branch'].value_counts().index, autopct=\"%.f%%\")\n",
    "ax[2].pie(df['ML Branch'].value_counts().values, labels=df['ML Branch'].value_counts().index, autopct=\"%.f%%\", colors=['red', 'green'])\n",
    "plt.title('Candidates applying for Data Analyst Role v/s Students in various Departments')"
   ],
   "metadata": {
    "collapsed": false,
    "ExecuteTime": {
     "end_time": "2023-10-19T16:54:10.048838028Z",
     "start_time": "2023-10-19T16:54:09.518401320Z"
    }
   },
   "id": "b22aa23c2ff8badc"
  },
  {
   "cell_type": "code",
   "execution_count": 129,
   "outputs": [
    {
     "data": {
      "text/plain": "     Sr.No.           Full Name                     Email id  Contact Number  \\\n0         1            Manohara        manohar4693@gmail.com      8296267343   \n1         2  Mohammed Thanseer        thansheerbhr@gmail.com      8147872388   \n2         3         Sahil Kumar   sahilkumar.ktp16@gmail.com      7022334283   \n3         4         Thejas Rao      thejastanvi2.0@gmail.com      9380174402   \n4         5            SHREYA K      kulalshreya80@gmail.com      9148676538   \n..      ...                 ...                          ...             ...   \n174     175      Swasthi Shetty  swasthishetty2002@gmail.com      7619510091   \n175     176        THANUSHREE S       tanushris585@gmail.com      9353516705   \n176     177             Vibha K     vibhakrishnad@gmail.com       8197576482   \n177     178      VRAJ K RABARA          vrajrabara@gmail.com      8431412488   \n178     179     Sushanth shetty       sushanths497@gmail.com      8310456395   \n\n             USN Branch  10th%   12th% Diploma%     BE%  B.E CGPA  \\\n0     4SF20CI030   AIML  91.68      93      NaN    73.7      8.12   \n1     4SF20CI036   AIML   80.8   77.33      NaN      68      7.55   \n2     4SF20CI052   AIML     88   87.33      NaN   68.51      7.51   \n3     4SF20CI062   AIML   80.8   81.66      NaN  71.10%      7.86   \n4     4SF20CS134    CSE  93.12   92.66        -      78      8.50   \n..           ...    ...    ...     ...      ...     ...       ...   \n174   4SF20IS048    ISE   79.2  73.667        -      59      6.60   \n175   4SF20IS108    ISE  85.26      91        0   80.08      8.80   \n176  4SF20IS113     ISE  91.36   91.66        0   70.53      7.80   \n177  4sf20is116     ISE   84.5    89.5      NaN      77      8.45   \n178   4SF21ME416     EC  65.92       0       74      71      7.90   \n\n                                   Roles applying for?  Analyst  ML Branch  \n0                                          ML-Engineer    False       True  \n1    ML Engineer I,Data Analyst I,Software Develope...     True       True  \n2                                       Data Analyst I     True       True  \n3                                        Data analyst     False       True  \n4           Software development engineer 1 , Frontend    False      False  \n..                                                 ...      ...        ...  \n174            Software Development Engineer in Test I    False      False  \n175           Software Development Engineer I, Backend    False      False  \n176           Software developer engineering l Backend    False      False  \n177          Software Development Engineer I, Frontend    False      False  \n178         UX designer, product management, analyst l    False      False  \n\n[177 rows x 14 columns]",
      "text/html": "<div>\n<style scoped>\n    .dataframe tbody tr th:only-of-type {\n        vertical-align: middle;\n    }\n\n    .dataframe tbody tr th {\n        vertical-align: top;\n    }\n\n    .dataframe thead th {\n        text-align: right;\n    }\n</style>\n<table border=\"1\" class=\"dataframe\">\n  <thead>\n    <tr style=\"text-align: right;\">\n      <th></th>\n      <th>Sr.No.</th>\n      <th>Full Name</th>\n      <th>Email id</th>\n      <th>Contact Number</th>\n      <th>USN</th>\n      <th>Branch</th>\n      <th>10th%</th>\n      <th>12th%</th>\n      <th>Diploma%</th>\n      <th>BE%</th>\n      <th>B.E CGPA</th>\n      <th>Roles applying for?</th>\n      <th>Analyst</th>\n      <th>ML Branch</th>\n    </tr>\n  </thead>\n  <tbody>\n    <tr>\n      <th>0</th>\n      <td>1</td>\n      <td>Manohara</td>\n      <td>manohar4693@gmail.com</td>\n      <td>8296267343</td>\n      <td>4SF20CI030</td>\n      <td>AIML</td>\n      <td>91.68</td>\n      <td>93</td>\n      <td>NaN</td>\n      <td>73.7</td>\n      <td>8.12</td>\n      <td>ML-Engineer</td>\n      <td>False</td>\n      <td>True</td>\n    </tr>\n    <tr>\n      <th>1</th>\n      <td>2</td>\n      <td>Mohammed Thanseer</td>\n      <td>thansheerbhr@gmail.com</td>\n      <td>8147872388</td>\n      <td>4SF20CI036</td>\n      <td>AIML</td>\n      <td>80.8</td>\n      <td>77.33</td>\n      <td>NaN</td>\n      <td>68</td>\n      <td>7.55</td>\n      <td>ML Engineer I,Data Analyst I,Software Develope...</td>\n      <td>True</td>\n      <td>True</td>\n    </tr>\n    <tr>\n      <th>2</th>\n      <td>3</td>\n      <td>Sahil Kumar</td>\n      <td>sahilkumar.ktp16@gmail.com</td>\n      <td>7022334283</td>\n      <td>4SF20CI052</td>\n      <td>AIML</td>\n      <td>88</td>\n      <td>87.33</td>\n      <td>NaN</td>\n      <td>68.51</td>\n      <td>7.51</td>\n      <td>Data Analyst I</td>\n      <td>True</td>\n      <td>True</td>\n    </tr>\n    <tr>\n      <th>3</th>\n      <td>4</td>\n      <td>Thejas Rao</td>\n      <td>thejastanvi2.0@gmail.com</td>\n      <td>9380174402</td>\n      <td>4SF20CI062</td>\n      <td>AIML</td>\n      <td>80.8</td>\n      <td>81.66</td>\n      <td>NaN</td>\n      <td>71.10%</td>\n      <td>7.86</td>\n      <td>Data analyst</td>\n      <td>False</td>\n      <td>True</td>\n    </tr>\n    <tr>\n      <th>4</th>\n      <td>5</td>\n      <td>SHREYA K</td>\n      <td>kulalshreya80@gmail.com</td>\n      <td>9148676538</td>\n      <td>4SF20CS134</td>\n      <td>CSE</td>\n      <td>93.12</td>\n      <td>92.66</td>\n      <td>-</td>\n      <td>78</td>\n      <td>8.50</td>\n      <td>Software development engineer 1 , Frontend</td>\n      <td>False</td>\n      <td>False</td>\n    </tr>\n    <tr>\n      <th>...</th>\n      <td>...</td>\n      <td>...</td>\n      <td>...</td>\n      <td>...</td>\n      <td>...</td>\n      <td>...</td>\n      <td>...</td>\n      <td>...</td>\n      <td>...</td>\n      <td>...</td>\n      <td>...</td>\n      <td>...</td>\n      <td>...</td>\n      <td>...</td>\n    </tr>\n    <tr>\n      <th>174</th>\n      <td>175</td>\n      <td>Swasthi Shetty</td>\n      <td>swasthishetty2002@gmail.com</td>\n      <td>7619510091</td>\n      <td>4SF20IS048</td>\n      <td>ISE</td>\n      <td>79.2</td>\n      <td>73.667</td>\n      <td>-</td>\n      <td>59</td>\n      <td>6.60</td>\n      <td>Software Development Engineer in Test I</td>\n      <td>False</td>\n      <td>False</td>\n    </tr>\n    <tr>\n      <th>175</th>\n      <td>176</td>\n      <td>THANUSHREE S</td>\n      <td>tanushris585@gmail.com</td>\n      <td>9353516705</td>\n      <td>4SF20IS108</td>\n      <td>ISE</td>\n      <td>85.26</td>\n      <td>91</td>\n      <td>0</td>\n      <td>80.08</td>\n      <td>8.80</td>\n      <td>Software Development Engineer I, Backend</td>\n      <td>False</td>\n      <td>False</td>\n    </tr>\n    <tr>\n      <th>176</th>\n      <td>177</td>\n      <td>Vibha K</td>\n      <td>vibhakrishnad@gmail.com</td>\n      <td>8197576482</td>\n      <td>4SF20IS113</td>\n      <td>ISE</td>\n      <td>91.36</td>\n      <td>91.66</td>\n      <td>0</td>\n      <td>70.53</td>\n      <td>7.80</td>\n      <td>Software developer engineering l Backend</td>\n      <td>False</td>\n      <td>False</td>\n    </tr>\n    <tr>\n      <th>177</th>\n      <td>178</td>\n      <td>VRAJ K RABARA</td>\n      <td>vrajrabara@gmail.com</td>\n      <td>8431412488</td>\n      <td>4sf20is116</td>\n      <td>ISE</td>\n      <td>84.5</td>\n      <td>89.5</td>\n      <td>NaN</td>\n      <td>77</td>\n      <td>8.45</td>\n      <td>Software Development Engineer I, Frontend</td>\n      <td>False</td>\n      <td>False</td>\n    </tr>\n    <tr>\n      <th>178</th>\n      <td>179</td>\n      <td>Sushanth shetty</td>\n      <td>sushanths497@gmail.com</td>\n      <td>8310456395</td>\n      <td>4SF21ME416</td>\n      <td>EC</td>\n      <td>65.92</td>\n      <td>0</td>\n      <td>74</td>\n      <td>71</td>\n      <td>7.90</td>\n      <td>UX designer, product management, analyst l</td>\n      <td>False</td>\n      <td>False</td>\n    </tr>\n  </tbody>\n</table>\n<p>177 rows × 14 columns</p>\n</div>"
     },
     "execution_count": 129,
     "metadata": {},
     "output_type": "execute_result"
    }
   ],
   "source": [
    "df"
   ],
   "metadata": {
    "collapsed": false,
    "ExecuteTime": {
     "end_time": "2023-10-19T16:45:54.298523902Z",
     "start_time": "2023-10-19T16:45:54.253398552Z"
    }
   },
   "id": "898e96347c35eb04"
  },
  {
   "cell_type": "code",
   "execution_count": 76,
   "outputs": [],
   "source": [],
   "metadata": {
    "collapsed": false,
    "ExecuteTime": {
     "end_time": "2023-10-19T16:22:23.097603681Z",
     "start_time": "2023-10-19T16:22:23.036482821Z"
    }
   },
   "id": "b7fcfb22a2acc8b"
  }
 ],
 "metadata": {
  "kernelspec": {
   "display_name": "Python 3",
   "language": "python",
   "name": "python3"
  },
  "language_info": {
   "codemirror_mode": {
    "name": "ipython",
    "version": 2
   },
   "file_extension": ".py",
   "mimetype": "text/x-python",
   "name": "python",
   "nbconvert_exporter": "python",
   "pygments_lexer": "ipython2",
   "version": "2.7.6"
  }
 },
 "nbformat": 4,
 "nbformat_minor": 5
}
